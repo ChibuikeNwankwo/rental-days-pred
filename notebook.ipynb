{
 "cells": [
  {
   "cell_type": "markdown",
   "id": "b4ae5707-109f-4cd6-8168-88cac0179d6b",
   "metadata": {},
   "source": [
    "![dvd_image](dvd_image.jpg)\n",
    "\n",
    "A DVD rental company needs your help! They want to figure out how many days a customer will rent a DVD for based on some features and has approached you for help. They want you to try out some regression models which will help predict the number of days a customer will rent a DVD for. The company wants a model which yeilds a MSE of 3 or less on a test set. The model you make will help the company become more efficient inventory planning.\n",
    "\n",
    "The data they provided is in the csv file `rental_info.csv`. It has the following features:\n",
    "- `\"rental_date\"`: The date (and time) the customer rents the DVD.\n",
    "- `\"return_date\"`: The date (and time) the customer returns the DVD.\n",
    "- `\"amount\"`: The amount paid by the customer for renting the DVD.\n",
    "- `\"amount_2\"`: The square of `\"amount\"`.\n",
    "- `\"rental_rate\"`: The rate at which the DVD is rented for.\n",
    "- `\"rental_rate_2\"`: The square of `\"rental_rate\"`.\n",
    "- `\"release_year\"`: The year the movie being rented was released.\n",
    "- `\"length\"`: Lenght of the movie being rented, in minuites.\n",
    "- `\"length_2\"`: The square of `\"length\"`.\n",
    "- `\"replacement_cost\"`: The amount it will cost the company to replace the DVD.\n",
    "- `\"special_features\"`: Any special features, for example trailers/deleted scenes that the DVD also has.\n",
    "- `\"NC-17\"`, `\"PG\"`, `\"PG-13\"`, `\"R\"`: These columns are dummy variables of the rating of the movie. It takes the value 1 if the move is rated as the column name and 0 otherwise. For your convinience, the reference dummy has already been dropped."
   ]
  },
  {
   "cell_type": "code",
   "execution_count": 1,
   "id": "a7ede566-910a-445c-b11a-68d192ac8506",
   "metadata": {
    "executionCancelledAt": null,
    "executionTime": 13,
    "lastExecutedAt": 1750506698613,
    "lastExecutedByKernel": "d31588e0-e381-4606-9d65-764a426bc075",
    "lastScheduledRunId": null,
    "lastSuccessfullyExecutedCode": "import pandas as pd\nimport numpy as np\nimport matplotlib.pyplot as plt\n\nfrom sklearn.model_selection import train_test_split, RandomizedSearchCV\nfrom sklearn.metrics import mean_squared_error as MSE, r2_score\n\n# Import any additional modules and start coding below \nfrom sklearn.linear_model import Lasso, LassoCV, LinearRegression, Ridge\nfrom sklearn.preprocessing import StandardScaler\nfrom sklearn.pipeline import Pipeline \nfrom sklearn.tree import DecisionTreeRegressor\nfrom sklearn.ensemble import RandomForestRegressor\nfrom scipy.stats import randint, uniform\n"
   },
   "outputs": [],
   "source": [
    "# Importing all modules\n",
    "import pandas as pd\n",
    "import numpy as np\n",
    "import matplotlib.pyplot as plt\n",
    "\n",
    "from sklearn.model_selection import train_test_split, RandomizedSearchCV\n",
    "from sklearn.metrics import mean_squared_error as MSE, r2_score\n",
    "from sklearn.linear_model import Lasso, LassoCV, LinearRegression, Ridge\n",
    "from sklearn.preprocessing import StandardScaler\n",
    "from sklearn.pipeline import Pipeline \n",
    "from sklearn.tree import DecisionTreeRegressor\n",
    "from sklearn.ensemble import RandomForestRegressor\n",
    "from scipy.stats import randint, uniform\n"
   ]
  },
  {
   "cell_type": "code",
   "execution_count": 2,
   "id": "f39c7a59-93f9-4e01-8c53-4edfc8e7b256",
   "metadata": {
    "executionCancelledAt": null,
    "executionTime": null,
    "lastExecutedAt": null,
    "lastExecutedByKernel": null,
    "lastScheduledRunId": null,
    "lastSuccessfullyExecutedCode": null,
    "outputsMetadata": {
     "0": {
      "height": 550,
      "tableState": {
       "customFilter": {
        "const": {
         "type": "boolean",
         "valid": true,
         "value": true
        },
        "id": "2e4aae34-18f4-4e4a-8625-bba42d87ca57",
        "nodeType": "const"
       },
       "quickFilterText": ""
      },
      "type": "dataFrame"
     }
    }
   },
   "outputs": [
    {
     "data": {
      "text/html": [
       "<div>\n",
       "<style scoped>\n",
       "    .dataframe tbody tr th:only-of-type {\n",
       "        vertical-align: middle;\n",
       "    }\n",
       "\n",
       "    .dataframe tbody tr th {\n",
       "        vertical-align: top;\n",
       "    }\n",
       "\n",
       "    .dataframe thead th {\n",
       "        text-align: right;\n",
       "    }\n",
       "</style>\n",
       "<table border=\"1\" class=\"dataframe\">\n",
       "  <thead>\n",
       "    <tr style=\"text-align: right;\">\n",
       "      <th></th>\n",
       "      <th>amount</th>\n",
       "      <th>release_year</th>\n",
       "      <th>rental_rate</th>\n",
       "      <th>length</th>\n",
       "      <th>replacement_cost</th>\n",
       "      <th>NC-17</th>\n",
       "      <th>PG</th>\n",
       "      <th>PG-13</th>\n",
       "      <th>R</th>\n",
       "      <th>amount_2</th>\n",
       "      <th>length_2</th>\n",
       "      <th>rental_rate_2</th>\n",
       "      <th>rental_length_days</th>\n",
       "      <th>Trailers</th>\n",
       "      <th>Behind_the_Scenes</th>\n",
       "      <th>Commentaries</th>\n",
       "      <th>Deleted_Scenes</th>\n",
       "    </tr>\n",
       "  </thead>\n",
       "  <tbody>\n",
       "    <tr>\n",
       "      <th>3816</th>\n",
       "      <td>4.99</td>\n",
       "      <td>2006.0</td>\n",
       "      <td>4.99</td>\n",
       "      <td>109.0</td>\n",
       "      <td>10.99</td>\n",
       "      <td>1</td>\n",
       "      <td>0</td>\n",
       "      <td>0</td>\n",
       "      <td>0</td>\n",
       "      <td>24.9001</td>\n",
       "      <td>11881.0</td>\n",
       "      <td>24.9001</td>\n",
       "      <td>2</td>\n",
       "      <td>0</td>\n",
       "      <td>0</td>\n",
       "      <td>1</td>\n",
       "      <td>0</td>\n",
       "    </tr>\n",
       "    <tr>\n",
       "      <th>8104</th>\n",
       "      <td>0.99</td>\n",
       "      <td>2005.0</td>\n",
       "      <td>0.99</td>\n",
       "      <td>87.0</td>\n",
       "      <td>23.99</td>\n",
       "      <td>0</td>\n",
       "      <td>0</td>\n",
       "      <td>0</td>\n",
       "      <td>0</td>\n",
       "      <td>0.9801</td>\n",
       "      <td>7569.0</td>\n",
       "      <td>0.9801</td>\n",
       "      <td>5</td>\n",
       "      <td>1</td>\n",
       "      <td>1</td>\n",
       "      <td>1</td>\n",
       "      <td>0</td>\n",
       "    </tr>\n",
       "    <tr>\n",
       "      <th>13905</th>\n",
       "      <td>2.99</td>\n",
       "      <td>2009.0</td>\n",
       "      <td>2.99</td>\n",
       "      <td>115.0</td>\n",
       "      <td>29.99</td>\n",
       "      <td>0</td>\n",
       "      <td>1</td>\n",
       "      <td>0</td>\n",
       "      <td>0</td>\n",
       "      <td>8.9401</td>\n",
       "      <td>13225.0</td>\n",
       "      <td>8.9401</td>\n",
       "      <td>2</td>\n",
       "      <td>0</td>\n",
       "      <td>1</td>\n",
       "      <td>0</td>\n",
       "      <td>0</td>\n",
       "    </tr>\n",
       "    <tr>\n",
       "      <th>2002</th>\n",
       "      <td>6.99</td>\n",
       "      <td>2010.0</td>\n",
       "      <td>4.99</td>\n",
       "      <td>167.0</td>\n",
       "      <td>24.99</td>\n",
       "      <td>0</td>\n",
       "      <td>0</td>\n",
       "      <td>1</td>\n",
       "      <td>0</td>\n",
       "      <td>48.8601</td>\n",
       "      <td>27889.0</td>\n",
       "      <td>24.9001</td>\n",
       "      <td>5</td>\n",
       "      <td>0</td>\n",
       "      <td>0</td>\n",
       "      <td>0</td>\n",
       "      <td>1</td>\n",
       "    </tr>\n",
       "    <tr>\n",
       "      <th>3797</th>\n",
       "      <td>6.99</td>\n",
       "      <td>2005.0</td>\n",
       "      <td>4.99</td>\n",
       "      <td>179.0</td>\n",
       "      <td>29.99</td>\n",
       "      <td>0</td>\n",
       "      <td>0</td>\n",
       "      <td>0</td>\n",
       "      <td>1</td>\n",
       "      <td>48.8601</td>\n",
       "      <td>32041.0</td>\n",
       "      <td>24.9001</td>\n",
       "      <td>9</td>\n",
       "      <td>1</td>\n",
       "      <td>1</td>\n",
       "      <td>1</td>\n",
       "      <td>0</td>\n",
       "    </tr>\n",
       "    <tr>\n",
       "      <th>1434</th>\n",
       "      <td>5.99</td>\n",
       "      <td>2010.0</td>\n",
       "      <td>4.99</td>\n",
       "      <td>162.0</td>\n",
       "      <td>23.99</td>\n",
       "      <td>0</td>\n",
       "      <td>0</td>\n",
       "      <td>1</td>\n",
       "      <td>0</td>\n",
       "      <td>35.8801</td>\n",
       "      <td>26244.0</td>\n",
       "      <td>24.9001</td>\n",
       "      <td>5</td>\n",
       "      <td>0</td>\n",
       "      <td>1</td>\n",
       "      <td>1</td>\n",
       "      <td>1</td>\n",
       "    </tr>\n",
       "    <tr>\n",
       "      <th>5067</th>\n",
       "      <td>0.99</td>\n",
       "      <td>2007.0</td>\n",
       "      <td>0.99</td>\n",
       "      <td>129.0</td>\n",
       "      <td>17.99</td>\n",
       "      <td>0</td>\n",
       "      <td>0</td>\n",
       "      <td>0</td>\n",
       "      <td>1</td>\n",
       "      <td>0.9801</td>\n",
       "      <td>16641.0</td>\n",
       "      <td>0.9801</td>\n",
       "      <td>1</td>\n",
       "      <td>1</td>\n",
       "      <td>1</td>\n",
       "      <td>1</td>\n",
       "      <td>0</td>\n",
       "    </tr>\n",
       "    <tr>\n",
       "      <th>7198</th>\n",
       "      <td>4.99</td>\n",
       "      <td>2006.0</td>\n",
       "      <td>4.99</td>\n",
       "      <td>180.0</td>\n",
       "      <td>13.99</td>\n",
       "      <td>1</td>\n",
       "      <td>0</td>\n",
       "      <td>0</td>\n",
       "      <td>0</td>\n",
       "      <td>24.9001</td>\n",
       "      <td>32400.0</td>\n",
       "      <td>24.9001</td>\n",
       "      <td>2</td>\n",
       "      <td>0</td>\n",
       "      <td>0</td>\n",
       "      <td>1</td>\n",
       "      <td>0</td>\n",
       "    </tr>\n",
       "    <tr>\n",
       "      <th>7361</th>\n",
       "      <td>3.99</td>\n",
       "      <td>2010.0</td>\n",
       "      <td>2.99</td>\n",
       "      <td>137.0</td>\n",
       "      <td>9.99</td>\n",
       "      <td>1</td>\n",
       "      <td>0</td>\n",
       "      <td>0</td>\n",
       "      <td>0</td>\n",
       "      <td>15.9201</td>\n",
       "      <td>18769.0</td>\n",
       "      <td>8.9401</td>\n",
       "      <td>4</td>\n",
       "      <td>0</td>\n",
       "      <td>0</td>\n",
       "      <td>1</td>\n",
       "      <td>1</td>\n",
       "    </tr>\n",
       "  </tbody>\n",
       "</table>\n",
       "</div>"
      ],
      "text/plain": [
       "       amount  release_year  rental_rate  length  replacement_cost  NC-17  PG  \\\n",
       "3816     4.99        2006.0         4.99   109.0             10.99      1   0   \n",
       "8104     0.99        2005.0         0.99    87.0             23.99      0   0   \n",
       "13905    2.99        2009.0         2.99   115.0             29.99      0   1   \n",
       "2002     6.99        2010.0         4.99   167.0             24.99      0   0   \n",
       "3797     6.99        2005.0         4.99   179.0             29.99      0   0   \n",
       "1434     5.99        2010.0         4.99   162.0             23.99      0   0   \n",
       "5067     0.99        2007.0         0.99   129.0             17.99      0   0   \n",
       "7198     4.99        2006.0         4.99   180.0             13.99      1   0   \n",
       "7361     3.99        2010.0         2.99   137.0              9.99      1   0   \n",
       "\n",
       "       PG-13  R  amount_2  length_2  rental_rate_2  rental_length_days  \\\n",
       "3816       0  0   24.9001   11881.0        24.9001                   2   \n",
       "8104       0  0    0.9801    7569.0         0.9801                   5   \n",
       "13905      0  0    8.9401   13225.0         8.9401                   2   \n",
       "2002       1  0   48.8601   27889.0        24.9001                   5   \n",
       "3797       0  1   48.8601   32041.0        24.9001                   9   \n",
       "1434       1  0   35.8801   26244.0        24.9001                   5   \n",
       "5067       0  1    0.9801   16641.0         0.9801                   1   \n",
       "7198       0  0   24.9001   32400.0        24.9001                   2   \n",
       "7361       0  0   15.9201   18769.0         8.9401                   4   \n",
       "\n",
       "       Trailers  Behind_the_Scenes  Commentaries  Deleted_Scenes  \n",
       "3816          0                  0             1               0  \n",
       "8104          1                  1             1               0  \n",
       "13905         0                  1             0               0  \n",
       "2002          0                  0             0               1  \n",
       "3797          1                  1             1               0  \n",
       "1434          0                  1             1               1  \n",
       "5067          1                  1             1               0  \n",
       "7198          0                  0             1               0  \n",
       "7361          0                  0             1               1  "
      ]
     },
     "execution_count": 2,
     "metadata": {},
     "output_type": "execute_result"
    }
   ],
   "source": [
    "# loading the data\n",
    "rental = pd.read_csv('rental_info.csv', parse_dates=['rental_date', 'return_date'])\n",
    "\n",
    "# getting the rental days from the return and rental date\n",
    "rental['rental_length_days'] = (rental['return_date'] - rental['rental_date']).dt.days\n",
    "\n",
    "# creating dummy variables for special_features column using np.where\n",
    "#Remove the curly braces and quotes\n",
    "spec_f = rental['special_features']\n",
    "cleaned = spec_f.str.strip('{}').str.replace('\"', '', regex=False)\n",
    "\n",
    "# Split each string by comma\n",
    "split_lists = cleaned.str.split(',')\n",
    "\n",
    "# Flatten the list of lists and strip extra whitespace\n",
    "all_items = [item.strip() for sublist in split_lists for item in sublist]\n",
    "\n",
    "# Get unique values\n",
    "unique_items = pd.Series(all_items).unique()\n",
    "\n",
    "# Looping through the unique items to create dummy variables\n",
    "for i in unique_items:\n",
    "    rental[i] = np.where(rental['special_features'].str.contains(i),1,0)\n",
    "\n",
    "# Ensuring column names follow stndard convention\n",
    "rental.columns = [col.replace(' ', '_') for col in rental.columns]\n",
    "\n",
    "# dropping used columns\n",
    "rental = rental.drop(columns=['rental_date', 'return_date', 'special_features'])\n",
    "\n",
    "rental.sample(9)"
   ]
  },
  {
   "cell_type": "code",
   "execution_count": 3,
   "id": "2408937f-1cfd-442d-b6a3-5eb3086a97a8",
   "metadata": {
    "executionCancelledAt": null,
    "executionTime": 1027,
    "lastExecutedAt": 1750506699828,
    "lastExecutedByKernel": "d31588e0-e381-4606-9d65-764a426bc075",
    "lastScheduledRunId": null,
    "lastSuccessfullyExecutedCode": "# setting my features and target variables\nX = rental.drop('rental_length_days', axis=1)\ny = rental['rental_length_days']\n\n# performing a train test split\nX_train, X_test, y_train, y_test = train_test_split(X, y, test_size=0.2, random_state=9)\n\n# create a pipeline and tune Lasso's alpha to pick the best alpha\npipeline = Pipeline([\n    ('scaler', StandardScaler()),\n    ('lasso_cv', LassoCV(alphas=np.arange(0.01, 10.5, 0.5), cv=5, random_state=9))\n])\n\npipeline.fit(X_train, y_train)\n\n# getting the best alpha value\nbest_alpha = pipeline.named_steps['lasso_cv'].alpha_\n\nprint(\"Best alpha:\", best_alpha)",
    "outputsMetadata": {
     "0": {
      "height": 38,
      "type": "stream"
     }
    }
   },
   "outputs": [
    {
     "name": "stdout",
     "output_type": "stream",
     "text": [
      "Best alpha: 0.01\n"
     ]
    }
   ],
   "source": [
    "# setting my features and target variables\n",
    "X = rental.drop('rental_length_days', axis=1)\n",
    "y = rental['rental_length_days']\n",
    "\n",
    "# performing a train test split\n",
    "X_train, X_test, y_train, y_test = train_test_split(X, y, test_size=0.2, random_state=9)\n",
    "\n",
    "# create a pipeline and tune Lasso's alpha to pick the best alpha\n",
    "pipeline = Pipeline([\n",
    "    ('scaler', StandardScaler()),\n",
    "    ('lasso_cv', LassoCV(alphas=np.arange(0.01, 10.5, 0.5), cv=5, random_state=9))\n",
    "])\n",
    "\n",
    "pipeline.fit(X_train, y_train)\n",
    "\n",
    "# getting the best alpha value\n",
    "best_alpha = pipeline.named_steps['lasso_cv'].alpha_\n",
    "\n",
    "print(\"Best alpha:\", best_alpha)"
   ]
  },
  {
   "cell_type": "code",
   "execution_count": 4,
   "id": "4125c29a-fb0f-4779-9dac-8ec69e0bd9bb",
   "metadata": {
    "executionCancelledAt": null,
    "executionTime": 881,
    "lastExecutedAt": 1750506700710,
    "lastExecutedByKernel": "d31588e0-e381-4606-9d65-764a426bc075",
    "lastScheduledRunId": null,
    "lastSuccessfullyExecutedCode": "# creating a new pipeline \nnew_pl = Pipeline([\n    ('scaler', StandardScaler()),\n    ('lasso', Lasso(alpha=best_alpha))\n])\n\nnew_pl.fit(X_train, y_train)\n\n# get feature names\nfeat = X.columns\n\n# Get the Lasso model from the pipeline\nlasso = new_pl.named_steps['lasso']\n\n# Get selected features and plotting them\nselected_features = [name for name, coef in zip(feat, lasso.coef_) if abs(coef) > 0.1]\nprint(\"Selected features:\", selected_features)\n\n# Assuming rental is a DataFrame\nlass = lasso.coef_\nplt.bar(feat, lass)\nplt.xticks(rotation=90)\nplt.show()",
    "outputsMetadata": {
     "0": {
      "height": 38,
      "type": "stream"
     }
    }
   },
   "outputs": [
    {
     "name": "stdout",
     "output_type": "stream",
     "text": [
      "Selected features: ['amount', 'rental_rate', 'amount_2', 'rental_rate_2']\n"
     ]
    },
    {
     "data": {
      "image/png": "[encoded data removed]",
      "text/plain": [
       "<Figure size 640x480 with 1 Axes>"
      ]
     },
     "metadata": {},
     "output_type": "display_data"
    }
   ],
   "source": [
    "# creating a new pipeline \n",
    "new_pl = Pipeline([\n",
    "    ('scaler', StandardScaler()),\n",
    "    ('lasso', Lasso(alpha=best_alpha))\n",
    "])\n",
    "\n",
    "new_pl.fit(X_train, y_train)\n",
    "\n",
    "# get feature names\n",
    "feat = X.columns\n",
    "\n",
    "# Get the Lasso model from the pipeline\n",
    "lasso = new_pl.named_steps['lasso']\n",
    "\n",
    "# Selecting features  based on coef and plotting them\n",
    "selected_features = [name for name, coef in zip(feat, lasso.coef_) if abs(coef) > 0.1]\n",
    "print(\"Selected features:\", selected_features)\n",
    "\n",
    "# Assuming rental is a DataFrame\n",
    "lass = lasso.coef_\n",
    "plt.bar(feat, lass)\n",
    "plt.xticks(rotation=90)\n",
    "plt.show()"
   ]
  },
  {
   "cell_type": "code",
   "execution_count": 11,
   "id": "32120952-de5a-4cfa-a7cc-b5787da36d31",
   "metadata": {
    "executionCancelledAt": null,
    "executionTime": 2624,
    "lastExecutedAt": 1750506703334,
    "lastExecutedByKernel": "d31588e0-e381-4606-9d65-764a426bc075",
    "lastScheduledRunId": null,
    "lastSuccessfullyExecutedCode": "# subsetting train and test sets for selected features\nX_train_selected = X_train[selected_features]\nX_test_selected = X_test[selected_features]\n\n# Define the models\nmodels = {\n    \"Linear Regression\": LinearRegression(),\n    \"Ridge Regression\": Ridge(alpha=1.0),\n    \"Decision Tree\": DecisionTreeRegressor(max_depth=3, random_state=9),\n    \"Random Forest\": RandomForestRegressor(n_estimators=100, random_state=9)\n}\n\n# Train and evaluate each model\nresults = {}\nm_res = {}\nfor name, model in models.items():\n    model.fit(X_train, y_train)\n    y_pred = model.predict(X_test)\n    r2 = r2_score(y_test, y_pred)\n    mse = MSE(y_test, y_pred)\n    results[name] = r2\n    m_res[name] = mse\n\n# Show results\nprint(\"Model Performance (R² Scores):\")\nfor name, score in results.items():\n    print(f\"{name}: {score:.4f}\")",
    "outputsMetadata": {
     "0": {
      "height": 122,
      "type": "stream"
     }
    }
   },
   "outputs": [
    {
     "name": "stdout",
     "output_type": "stream",
     "text": [
      "Model Performance (MSE Scores):\n",
      "Linear Regression: 2.9411\n",
      "Ridge Regression: 2.9411\n",
      "Decision Tree: 3.2610\n",
      "Random Forest: 2.0237\n"
     ]
    }
   ],
   "source": [
    "# subsetting train and test sets for selected features\n",
    "X_train_selected = X_train[selected_features]\n",
    "X_test_selected = X_test[selected_features]\n",
    "\n",
    "# Define the models\n",
    "models = {\n",
    "    \"Linear Regression\": LinearRegression(),\n",
    "    \"Ridge Regression\": Ridge(alpha=1.0),\n",
    "    \"Decision Tree\": DecisionTreeRegressor(max_depth=3, random_state=9),\n",
    "    \"Random Forest\": RandomForestRegressor(n_estimators=100, random_state=9)\n",
    "}\n",
    "\n",
    "# Train and evaluate each model\n",
    "mse_results = {}\n",
    "for name, model in models.items():\n",
    "    model.fit(X_train, y_train)\n",
    "    y_pred = model.predict(X_test)\n",
    "    mse = MSE(y_test, y_pred)\n",
    "    mse_results[name] = mse\n",
    "\n",
    "# Show results\n",
    "print(\"Model Performance (MSE Scores):\")\n",
    "for name, score in mse_results.items():\n",
    "    print(f\"{name}: {score:.4f}\")"
   ]
  },
  {
   "cell_type": "code",
   "execution_count": 12,
   "id": "5b7cadc3-648b-444c-afb5-6c41ce8cbb60",
   "metadata": {
    "executionCancelledAt": null,
    "executionTime": 27868,
    "lastExecutedAt": 1750506731251,
    "lastExecutedByKernel": "d31588e0-e381-4606-9d65-764a426bc075",
    "lastScheduledRunId": null,
    "lastSuccessfullyExecutedCode": "# Tuning the best performing model\nmodel = RandomForestRegressor(random_state=9)\nparam_dist = {\n            \"n_estimators\": randint(50, 150),\n            \"max_depth\": randint(3, 15),\n            \"min_samples_split\": randint(2, 10),\n            \"min_samples_leaf\": randint(1, 5)\n}\n\n# Run RandomizedSearchCV for the model\nsearch = RandomizedSearchCV(\n            model, param_distributions=param_dist,\n            n_iter=10, scoring='neg_mean_squared_error', cv=5, random_state=9, n_jobs=-1)\nsearch.fit(X_train, y_train)\nbest_param = search.best_estimator_\n\ny_pred = best_param.predict(X_test)\nmse = MSE(y_test, y_pred)\n\n# Print results\nprint(\"Best Parameters Found:\", search.best_params_)\nprint(f\"Test Set MSE: {mse:.4f}\")\n",
    "outputsMetadata": {
     "0": {
      "height": 80,
      "type": "stream"
     }
    }
   },
   "outputs": [
    {
     "name": "stdout",
     "output_type": "stream",
     "text": [
      "Best Parameters Found: {'max_depth': 14, 'min_samples_leaf': 1, 'min_samples_split': 4, 'n_estimators': 106}\n"
     ]
    }
   ],
   "source": [
    "# Tuning the best performing model\n",
    "model = RandomForestRegressor(random_state=9)\n",
    "param_dist = {\n",
    "            \"n_estimators\": randint(50, 150),\n",
    "            \"max_depth\": randint(3, 15),\n",
    "            \"min_samples_split\": randint(2, 10),\n",
    "            \"min_samples_leaf\": randint(1, 5)\n",
    "}\n",
    "\n",
    "# Run RandomizedSearchCV for the model\n",
    "search = RandomizedSearchCV(\n",
    "            model, param_distributions=param_dist,\n",
    "            n_iter=10, scoring='neg_mean_squared_error', cv=5, random_state=9, n_jobs=-1)\n",
    "search.fit(X_train, y_train)\n",
    "\n",
    "# Print results\n",
    "print(\"Best Parameters Found:\", search.best_params_)\n"
   ]
  },
  {
   "cell_type": "code",
   "execution_count": 16,
   "id": "f1b131fd-9719-46f7-8adc-72e02745d3d9",
   "metadata": {
    "executionCancelledAt": null,
    "executionTime": 2250,
    "lastExecutedAt": 1750506733503,
    "lastExecutedByKernel": "d31588e0-e381-4606-9d65-764a426bc075",
    "lastScheduledRunId": null,
    "lastSuccessfullyExecutedCode": "rf = RandomForestRegressor(n_estimators=106, max_depth=14, min_samples_split=4, min_samples_leaf=1,random_state=9)\nrf.fit(X_train, y_train)\nrf_p = rf.predict(X_test)\nmse = MSE(y_test, rf_p)\n\nbest_model = rf\nbest_mse = mse"
   },
   "outputs": [
    {
     "name": "stdout",
     "output_type": "stream",
     "text": [
      "Model Performance (MSE Score): 2.0246\n"
     ]
    }
   ],
   "source": [
    "# Training the best model with the best parameters\n",
    "best_params = search.best_params_\n",
    "rf_best = {k.replace('model__', ''): v for k, v in best_params.items()}\n",
    "rf = RandomForestRegressor(**rf_best,random_state=9)\n",
    "rf.fit(X_train, y_train)\n",
    "rf_p = rf.predict(X_test)\n",
    "mse = MSE(y_test, rf_p)\n",
    "\n",
    "print(f\"Model Performance (MSE Score): {mse:.4f}\")\n"
   ]
  },
  {
   "cell_type": "code",
   "execution_count": 17,
   "id": "f70288a0-f990-4106-9028-232f9e9656f4",
   "metadata": {
    "executionCancelledAt": null,
    "executionTime": 46,
    "lastExecutedAt": 1750506733551,
    "lastExecutedByKernel": "d31588e0-e381-4606-9d65-764a426bc075",
    "lastScheduledRunId": null,
    "lastSuccessfullyExecutedCode": "r2 = r2_score(y_test, y_pred)\naccuracy_percent = r2 * 100 \nprint(f\"R² Score: {r2:.4f} ({accuracy_percent:.2f}%)\")",
    "outputsMetadata": {
     "0": {
      "height": 38,
      "type": "stream"
     }
    }
   },
   "outputs": [
    {
     "name": "stdout",
     "output_type": "stream",
     "text": [
      " Accuracy: 71.48%\n"
     ]
    }
   ],
   "source": [
    "# computing the model's accuracy\n",
    "r2 = r2_score(y_test, rf_p)\n",
    "accuracy_percent = r2 * 100 \n",
    "print(f\" Accuracy: {accuracy_percent:.2f}%\")"
   ]
  }
 ],
 "metadata": {
  "colab": {
   "name": "Welcome to DataCamp Workspaces.ipynb",
   "provenance": []
  },
  "kernelspec": {
   "display_name": "Python 3",
   "language": "python",
   "name": "python3"
  },
  "language_info": {
   "codemirror_mode": {
    "name": "ipython",
    "version": 3
   },
   "file_extension": ".py",
   "mimetype": "text/x-python",
   "name": "python",
   "nbconvert_exporter": "python",
   "pygments_lexer": "ipython3",
   "version": "3.11.4"
  }
 },
 "nbformat": 4,
 "nbformat_minor": 5
}
